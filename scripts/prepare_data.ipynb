{
 "cells": [
  {
   "cell_type": "markdown",
   "metadata": {},
   "source": [
    "# Just Draft Notebook to prepare data from different datasets to one view."
   ]
  },
  {
   "cell_type": "code",
   "execution_count": 10,
   "metadata": {},
   "outputs": [
    {
     "name": "stderr",
     "output_type": "stream",
     "text": [
      "100%|██████████| 11303/11303 [00:00<00:00, 272936.31it/s]\n",
      "100%|██████████| 339/339 [00:03<00:00, 111.93it/s]"
     ]
    },
    {
     "name": "stdout",
     "output_type": "stream",
     "text": [
      "Processing complete. Images and masks saved in: data/roboflow_modified/valid/\n"
     ]
    },
    {
     "name": "stderr",
     "output_type": "stream",
     "text": [
      "\n"
     ]
    }
   ],
   "source": [
    "import os\n",
    "import cv2\n",
    "import numpy as np\n",
    "from PIL import Image\n",
    "import json\n",
    "from tqdm import tqdm\n",
    "\n",
    "data_directory = 'data/roboflow/UI screenshots.v2i.coco/valid/'\n",
    "annotation_file = 'data/roboflow/UI screenshots.v2i.coco/valid/_annotations.coco.json'\n",
    "output_directory = 'data/roboflow_modified/valid/'\n",
    "\n",
    "with open(annotation_file) as f:\n",
    "    data = json.load(f)\n",
    "\n",
    "if not os.path.exists(output_directory):\n",
    "    os.makedirs(output_directory)\n",
    "\n",
    "masks = {}\n",
    "\n",
    "for annotation in tqdm(data['annotations']):\n",
    "    img_id = annotation['image_id']\n",
    "    bbox = annotation['bbox']  # bbox format [x, y, width, height]\n",
    "    bbox = [int(x) for x in bbox]\n",
    "    if img_id not in masks:\n",
    "        img_info = next((item for item in data['images'] if item['id'] == img_id), None)\n",
    "        if not img_info:\n",
    "            continue\n",
    "        masks[img_id] = {\n",
    "            'mask': np.zeros((img_info['height'], img_info['width']), dtype=np.uint8),\n",
    "            'file_name': img_info['file_name']\n",
    "        }\n",
    "    x, y, w, h = bbox\n",
    "    masks[img_id]['mask'][y:y+h, x:x+w] = 255\n",
    "\n",
    "counter = 340 \n",
    "for img_id, info in tqdm(masks.items()):\n",
    "    image_path = os.path.join(data_directory, info['file_name'])\n",
    "    image = cv2.imread(image_path)\n",
    "    if image is None:\n",
    "        continue  \n",
    "\n",
    "    new_image_filename = f\"image_{counter}.jpg\"\n",
    "    new_mask_filename = f\"image_{counter}.png\"\n",
    "    new_image_path = os.path.join(output_directory, new_image_filename)\n",
    "    new_mask_path = os.path.join(output_directory, new_mask_filename)\n",
    "\n",
    "    cv2.imwrite(new_image_path, image)\n",
    "    mask_image = Image.fromarray(info['mask'])\n",
    "    mask_image.save(new_mask_path)\n",
    "\n",
    "    counter += 1\n",
    "\n",
    "print(\"Processing complete. Images and masks saved in:\", output_directory)\n"
   ]
  }
 ],
 "metadata": {
  "kernelspec": {
   "display_name": "cv",
   "language": "python",
   "name": "python3"
  },
  "language_info": {
   "codemirror_mode": {
    "name": "ipython",
    "version": 3
   },
   "file_extension": ".py",
   "mimetype": "text/x-python",
   "name": "python",
   "nbconvert_exporter": "python",
   "pygments_lexer": "ipython3",
   "version": "3.10.13"
  }
 },
 "nbformat": 4,
 "nbformat_minor": 2
}
