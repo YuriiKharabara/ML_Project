{
 "cells": [
  {
   "cell_type": "markdown",
   "metadata": {},
   "source": [
    "# Just Draft Notebook to prepare data from different datasets to one view."
   ]
  },
  {
   "cell_type": "code",
   "execution_count": 1,
   "metadata": {},
   "outputs": [
    {
     "name": "stdout",
     "output_type": "stream",
     "text": [
      "/home/yurii_kharabara/ml_project/ML_Project\n"
     ]
    },
    {
     "name": "stderr",
     "output_type": "stream",
     "text": [
      "/home/yurii_kharabara/miniconda3/envs/cv/lib/python3.10/site-packages/IPython/core/magics/osm.py:417: UserWarning: using dhist requires you to install the `pickleshare` library.\n",
      "  self.shell.db['dhist'] = compress_dhist(dhist)[-100:]\n"
     ]
    }
   ],
   "source": [
    "%cd .."
   ]
  },
  {
   "cell_type": "code",
   "execution_count": 3,
   "metadata": {},
   "outputs": [
    {
     "name": "stdout",
     "output_type": "stream",
     "text": [
      "Error processing Reminders-1707082155.34.png with com.apple.reminders.json: cannot write empty image as JPEG\n",
      "Error processing Safari-1707176429.48.png with com.apple.Safari.json: cannot write empty image as JPEG\n",
      "Error processing Due-1707213313.08.png with com.dueapps.duemac-setapp.json: cannot write empty image as JPEG\n",
      "Error processing Google Chrome-1707230332.39.png with com.google.Chrome.json: cannot write empty image as JPEG\n",
      "Error processing IconJar-1707170614.26.png with com.iconjar.iconjar-setapp.json: cannot write empty image as JPEG\n",
      "Error processing Typing Mind-1707209808.56.png with com.devuap.Typing-Mind-setapp.json: cannot write empty image as JPEG\n",
      "Error processing News Explorer-1707239727.03.png with com.betamagic.News-Explorer-setapp.json: cannot write empty image as JPEG\n",
      "Error processing App Store-1707174111.80.png with com.apple.AppStore.json: 'NoneType' object is not subscriptable\n",
      "Error processing -1707239034.13.png with com.chekazuja.keykey-setapp.json: cannot write empty image as JPEG\n",
      "Error processing Numbers-1707175217.85.png with com.apple.iWork.Numbers.json: cannot write empty image as JPEG\n",
      "Error processing Numbers-1707175000.08.png with com.apple.iWork.Numbers.json: cannot write empty image as JPEG\n",
      "Error processing Diarly-1707210593.91.png with com.pureformstudio.diaryOSX-setapp.json: cannot write empty image as JPEG\n",
      "Error processing GarageBand-1707175497.51.png with com.apple.garageband10.json: cannot write empty image as JPEG\n",
      "Error processing Session-1707170349.27.png with com.philipyoungg.session-setapp.json: cannot write empty image as JPEG\n",
      "Error processing Session-1707170357.00.png with com.philipyoungg.session-setapp.json: cannot write empty image as JPEG\n",
      "Error processing BetterTouchTool-1707235272.33.png with com.hegenberg.bettertouchtool-setapp.json: cannot write empty image as JPEG\n",
      "Error processing BetterTouchTool-1707235183.48.png with com.hegenberg.bettertouchtool-setapp.json: cannot write empty image as JPEG\n",
      "Error processing Setapp-1707127616.74.png with com.setapp.DesktopClient.json: cannot write empty image as JPEG\n",
      "Error processing Setapp-1707127544.46.png with com.setapp.DesktopClient.json: cannot write empty image as JPEG\n",
      "Error processing Setapp-1707127585.43.png with com.setapp.DesktopClient.json: cannot write empty image as JPEG\n",
      "Error processing Swish-1707243075.12.png with co.highlyopinionated.swish-setapp.json: cannot write empty image as JPEG\n",
      "Error processing Almighty-1707228238.69.png with com.onmyway133.Almighty-setapp.json: cannot write empty image as JPEG\n",
      "Error processing Almighty-1707228210.30.png with com.onmyway133.Almighty-setapp.json: cannot write empty image as JPEG\n",
      "Error processing Studies-1707242779.46.png with com.mentalfaculty.studies-setapp.json: cannot write empty image as JPEG\n",
      "Error processing OpenIn-1707239943.59.png with app.loshadki.OpenIn-setapp.json: cannot write empty image as JPEG\n",
      "Error processing OpenIn-1707239956.17.png with app.loshadki.OpenIn-setapp.json: cannot write empty image as JPEG\n"
     ]
    }
   ],
   "source": [
    "import os\n",
    "import json\n",
    "from PIL import Image\n",
    "import pandas as pd\n",
    "\n",
    "def find_leaf_nodes(node, leaf_nodes):\n",
    "    if 'children' not in node or not node['children']:\n",
    "        leaf_nodes.append(node)\n",
    "    else:\n",
    "        for child in node['children']:\n",
    "            find_leaf_nodes(child, leaf_nodes)\n",
    "\n",
    "def process_images_and_jsons(input_dir, output_dir, csv_filename):\n",
    "    os.makedirs(output_dir, exist_ok=True)\n",
    "    images_info = []\n",
    "    image_id = 1\n",
    "\n",
    "    for root, dirs, files in os.walk(input_dir):\n",
    "        json_files = [file for file in files if file.endswith('.json')]\n",
    "        image_files = [file for file in files if file.endswith(('.png', '.jpg', '.jpeg'))]\n",
    "\n",
    "        for json_file in json_files:\n",
    "            json_path = os.path.join(root, json_file)\n",
    "            with open(json_path, 'r') as f:\n",
    "                data = json.load(f)\n",
    "            \n",
    "            for image_file in image_files:\n",
    "                image_path = os.path.join(root, image_file)\n",
    "                try:\n",
    "                    image = Image.open(image_path)\n",
    "                    leaf_nodes = []\n",
    "                    find_leaf_nodes(data, leaf_nodes)\n",
    "\n",
    "                    for node in leaf_nodes:\n",
    "                        if 'bbox' in node:\n",
    "                            bbox = node['bbox']\n",
    "                            role = node.get('role', 'Unknown')\n",
    "                            cropped_image = image.crop((bbox[0], bbox[1], bbox[0] + bbox[2], bbox[1] + bbox[3]))\n",
    "                            if cropped_image.mode == 'RGBA':\n",
    "                                cropped_image = cropped_image.convert('RGB')\n",
    "                            new_image_name = f'image_{image_id}.jpg'\n",
    "                            cropped_image.save(os.path.join(output_dir, new_image_name))\n",
    "                            images_info.append({'image': new_image_name, 'label': role})\n",
    "                            image_id += 1\n",
    "                except Exception as e:\n",
    "                    print(f\"Error processing {image_file} with {json_file}: {e}\")\n",
    "\n",
    "    df = pd.DataFrame(images_info)\n",
    "    df.to_csv(os.path.join(output_dir, csv_filename), index=False)\n",
    "\n",
    "input_dir = 'data/MAC/test'\n",
    "output_dir = 'data/MAC_Classification/validation'\n",
    "csv_filename = 'labels.csv'\n",
    "process_images_and_jsons(input_dir, output_dir, csv_filename)\n"
   ]
  },
  {
   "cell_type": "code",
   "execution_count": 4,
   "metadata": {},
   "outputs": [
    {
     "name": "stdout",
     "output_type": "stream",
     "text": [
      "image_8260.jpg,AXStaticText\n",
      "\n"
     ]
    }
   ],
   "source": [
    "with open('data/MAC_Classification/train/labels.csv', 'r') as file:\n",
    "    print(file.readlines()[-1])"
   ]
  },
  {
   "cell_type": "code",
   "execution_count": 11,
   "metadata": {},
   "outputs": [
    {
     "name": "stdout",
     "output_type": "stream",
     "text": [
      "Filtered CSV saved. Kept 1987 entries out of 2339.\n"
     ]
    }
   ],
   "source": [
    "import pandas as pd\n",
    "\n",
    "def filter_classes_in_csv(input_csv, output_csv, classes_to_keep):\n",
    "    df = pd.read_csv(input_csv)\n",
    "    filtered_df = df[df['label'].isin(classes_to_keep)]\n",
    "    \n",
    "    filtered_df.to_csv(output_csv, index=False)\n",
    "    print(f\"Filtered CSV saved. Kept {len(filtered_df)} entries out of {len(df)}.\")\n",
    "\n",
    "classes_to_keep = ['AXStaticText', 'AXButton', 'AXImage']\n",
    "\n",
    "input_csv = 'data/MAC_Classification/validation/labels.csv'  # Adjust this path to your initial CSV file location\n",
    "output_csv = 'data/MAC_Classification/validation/filtered_labels.csv'  # Path where the filtered CSV will be saved\n",
    "filter_classes_in_csv(input_csv, output_csv, classes_to_keep)\n"
   ]
  },
  {
   "cell_type": "code",
   "execution_count": 10,
   "metadata": {},
   "outputs": [
    {
     "data": {
      "text/plain": [
       "['AXButton', 'AXImage', 'AXStaticText']"
      ]
     },
     "execution_count": 10,
     "metadata": {},
     "output_type": "execute_result"
    }
   ],
   "source": [
    "annotations = pd.read_csv('data/MAC_Classification/train/filtered_labels.csv')\n",
    "unique_labels = annotations.iloc[:, 1].unique()\n",
    "unique_labels = unique_labels.tolist()\n",
    "unique_labels.sort()\n",
    "unique_labels"
   ]
  },
  {
   "cell_type": "code",
   "execution_count": 13,
   "metadata": {},
   "outputs": [
    {
     "data": {
      "text/plain": [
       "['AXButton', 'AXImage', 'AXStaticText']"
      ]
     },
     "execution_count": 13,
     "metadata": {},
     "output_type": "execute_result"
    }
   ],
   "source": [
    "annotations = pd.read_csv('data/MAC_Classification/validation/filtered_labels.csv')\n",
    "unique_labels = annotations.iloc[:, 1].unique()\n",
    "\n",
    "unique_labels = unique_labels.tolist()\n",
    "unique_labels.sort()\n",
    "unique_labels"
   ]
  },
  {
   "cell_type": "code",
   "execution_count": 15,
   "metadata": {},
   "outputs": [
    {
     "data": {
      "image/png": "[encoded data removed]",
      "text/plain": [
       "<Figure size 1000x600 with 1 Axes>"
      ]
     },
     "metadata": {},
     "output_type": "display_data"
    },
    {
     "name": "stdout",
     "output_type": "stream",
     "text": [
      "label\n",
      "AXStaticText    893\n",
      "AXButton        699\n",
      "AXImage         395\n",
      "Name: count, dtype: int64\n"
     ]
    }
   ],
   "source": [
    "import pandas as pd\n",
    "import matplotlib.pyplot as plt\n",
    "\n",
    "def check_class_balance(csv_file):\n",
    "    data = pd.read_csv(csv_file)\n",
    "    class_counts = data['label'].value_counts()\n",
    "\n",
    "    plt.figure(figsize=(10, 6))\n",
    "    class_counts.plot(kind='bar')\n",
    "    plt.title('Class Distribution')\n",
    "    plt.xlabel('Classes')\n",
    "    plt.ylabel('Frequency')\n",
    "    plt.show()\n",
    "\n",
    "    return class_counts\n",
    "\n",
    "class_counts = check_class_balance('data/MAC_Classification/validation/filtered_labels.csv')\n",
    "print(class_counts)\n"
   ]
  },
  {
   "cell_type": "code",
   "execution_count": 51,
   "metadata": {},
   "outputs": [
    {
     "name": "stdout",
     "output_type": "stream",
     "text": [
      "label\n",
      "button    1929\n",
      "image     1929\n",
      "text      1929\n",
      "link      1929\n",
      "field     1929\n",
      "Name: count, dtype: int64\n"
     ]
    },
    {
     "data": {
      "image/png": "[encoded data removed]",
      "text/plain": [
       "<Figure size 1000x600 with 1 Axes>"
      ]
     },
     "metadata": {},
     "output_type": "display_data"
    },
    {
     "name": "stdout",
     "output_type": "stream",
     "text": [
      "label\n",
      "button    1929\n",
      "image     1929\n",
      "text      1929\n",
      "link      1929\n",
      "field     1929\n",
      "Name: count, dtype: int64\n"
     ]
    }
   ],
   "source": [
    "import pandas as pd\n",
    "from sklearn.utils import resample\n",
    "\n",
    "def balance_dataset_halfway(csv_file, output_csv_file):\n",
    "    data = pd.read_csv(csv_file)\n",
    "    class_counts = data['label'].value_counts()\n",
    "    target_size = (class_counts.max() + class_counts.min()) // 2  # Target size is the average of max and min class sizes\n",
    "\n",
    "    resampled_list = []\n",
    "    \n",
    "    for label, group in data.groupby('label'):\n",
    "        if len(group) > target_size:\n",
    "            resampled_group = resample(group, replace=False, n_samples=target_size, random_state=123)\n",
    "        else:\n",
    "            resampled_group = resample(group, replace=True, n_samples=target_size, random_state=123)\n",
    "        resampled_list.append(resampled_group)\n",
    "\n",
    "    balanced_data = pd.concat(resampled_list)\n",
    "    \n",
    "    # Shuffle \n",
    "    balanced_data = balanced_data.sample(frac=1, random_state=123).reset_index(drop=True)\n",
    "    \n",
    "    balanced_data.to_csv(output_csv_file, index=False)\n",
    "\n",
    "    return balanced_data\n",
    "\n",
    "balanced_data = balance_dataset_halfway('data/roboflow_classification/valid/filtered_labels.csv', 'data/roboflow_classification/valid/_balanced_labels.csv')\n",
    "print(balanced_data['label'].value_counts())\n",
    "class_counts = check_class_balance('data/roboflow_classification/valid/_balanced_labels.csv')\n",
    "print(class_counts)"
   ]
  }
 ],
 "metadata": {
  "kernelspec": {
   "display_name": "cv",
   "language": "python",
   "name": "python3"
  },
  "language_info": {
   "codemirror_mode": {
    "name": "ipython",
    "version": 3
   },
   "file_extension": ".py",
   "mimetype": "text/x-python",
   "name": "python",
   "nbconvert_exporter": "python",
   "pygments_lexer": "ipython3",
   "version": "3.10.14"
  }
 },
 "nbformat": 4,
 "nbformat_minor": 2
}
